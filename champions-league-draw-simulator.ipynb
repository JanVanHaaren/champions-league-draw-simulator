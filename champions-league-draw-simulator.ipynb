{
 "cells": [
  {
   "cell_type": "markdown",
   "id": "LiIo5Z7UX73P",
   "metadata": {
    "id": "LiIo5Z7UX73P"
   },
   "source": [
    "# UEFA Champions League group stage draw simulator\n",
    "\n",
    "This notebook allows to simulate the UEFA Champions League group stage draw procedure.\n",
    "\n",
    "This notebook relies on a simple constraint solver to decide on the possible groups that each club can be drawn into.\n",
    "\n",
    "1. Clubs from the same association need to be drawn into different groups;\n",
    "2. Clubs that are paired based on TV audiences need to play on different days;\n",
    "3. Clubs from given associations need to be drawn into different groups (e.g., Ukraine and Belarus).\n",
    "\n",
    "If you spot any mistakes or have suggestions to improve the approach, then please [get in touch](https://twitter.com/JanVanHaaren) with me.\n",
    "\n",
    "**References**\n",
    "* [UEFA Champions League group stage draw pots confirmation](https://www.uefa.com/uefachampionsleague/news/0278-15f3603078f7-909c4310d18c-1000--champions-league-group-stage-draw-pots-confirmed/)\n",
    "* [UEFA Champions League group stage draw](https://www.uefa.com/uefachampionsleague/draws/2023/2001673/)\n",
    "* [UEFA Champions League regulations](https://documents.uefa.com/r/Regulations-of-the-UEFA-Champions-League-2022/23-Online)"
   ]
  },
  {
   "cell_type": "code",
   "execution_count": null,
   "id": "4df8a91d",
   "metadata": {
    "ExecuteTime": {
     "end_time": "2022-08-25T12:50:40.644055Z",
     "start_time": "2022-08-25T12:50:40.636889Z"
    },
    "colab": {
     "base_uri": "https://localhost:8080/"
    },
    "id": "2cJ1vuIUvbHz",
    "outputId": "0c94a696-c9fd-4763-edd5-94598ee65b14"
   },
   "outputs": [],
   "source": [
    "in_colab = 'google.colab' in str(get_ipython())"
   ]
  },
  {
   "cell_type": "code",
   "execution_count": null,
   "id": "2cJ1vuIUvbHz",
   "metadata": {
    "ExecuteTime": {
     "end_time": "2022-08-25T12:50:42.074346Z",
     "start_time": "2022-08-25T12:50:42.066871Z"
    },
    "colab": {
     "base_uri": "https://localhost:8080/"
    },
    "id": "2cJ1vuIUvbHz",
    "outputId": "0c94a696-c9fd-4763-edd5-94598ee65b14"
   },
   "outputs": [],
   "source": [
    "if in_colab:\n",
    "    !pip install numpy==1.21.6 pandas==1.3.5 python-constraint==1.4.0 tqdm"
   ]
  },
  {
   "cell_type": "code",
   "execution_count": null,
   "id": "84e29dfc",
   "metadata": {
    "ExecuteTime": {
     "end_time": "2022-08-25T12:43:10.480336Z",
     "start_time": "2022-08-25T12:43:10.040244Z"
    },
    "id": "84e29dfc"
   },
   "outputs": [],
   "source": [
    "import random\n",
    "\n",
    "from collections import defaultdict\n",
    "from collections import namedtuple\n",
    "from itertools import product\n",
    "\n",
    "import numpy as np\n",
    "import pandas as pd\n",
    "\n",
    "from constraint import Problem\n",
    "from constraint import AllDifferentConstraint\n",
    "from constraint import FunctionConstraint\n",
    "from tqdm.notebook import tqdm"
   ]
  },
  {
   "cell_type": "code",
   "execution_count": null,
   "id": "0b32982a",
   "metadata": {
    "ExecuteTime": {
     "end_time": "2022-08-25T12:43:10.487488Z",
     "start_time": "2022-08-25T12:43:10.482854Z"
    },
    "id": "0b32982a"
   },
   "outputs": [],
   "source": [
    "random.seed(42)"
   ]
  },
  {
   "cell_type": "code",
   "execution_count": null,
   "id": "cGsu7LAPHoYI",
   "metadata": {
    "ExecuteTime": {
     "end_time": "2022-08-25T12:43:10.496533Z",
     "start_time": "2022-08-25T12:43:10.490439Z"
    },
    "id": "cGsu7LAPHoYI"
   },
   "outputs": [],
   "source": [
    "np.set_printoptions(threshold=np.inf)"
   ]
  },
  {
   "cell_type": "code",
   "execution_count": null,
   "id": "ZE4jEy5SHony",
   "metadata": {
    "ExecuteTime": {
     "end_time": "2022-08-25T12:43:10.505010Z",
     "start_time": "2022-08-25T12:43:10.501875Z"
    },
    "id": "ZE4jEy5SHony"
   },
   "outputs": [],
   "source": [
    "pd.options.display.min_rows = 32\n",
    "pd.options.display.max_rows = 32\n",
    "pd.options.display.max_columns = 32"
   ]
  },
  {
   "cell_type": "markdown",
   "id": "Wy4Xip_5x_6_",
   "metadata": {
    "id": "Wy4Xip_5x_6_"
   },
   "source": [
    "# Provide participants and restrictions"
   ]
  },
  {
   "cell_type": "code",
   "execution_count": null,
   "id": "f2a66a89",
   "metadata": {
    "ExecuteTime": {
     "end_time": "2022-08-25T12:43:10.512283Z",
     "start_time": "2022-08-25T12:43:10.506986Z"
    },
    "id": "f2a66a89"
   },
   "outputs": [],
   "source": [
    "Participant = namedtuple('Participant', ['club_name', 'country_name', 'draw_pot'])"
   ]
  },
  {
   "cell_type": "code",
   "execution_count": null,
   "id": "f4ff9020",
   "metadata": {
    "ExecuteTime": {
     "end_time": "2022-08-25T12:43:10.519641Z",
     "start_time": "2022-08-25T12:43:10.513881Z"
    },
    "id": "f4ff9020"
   },
   "outputs": [],
   "source": [
    "participants = [\n",
    "    Participant('Real Madrid', 'Spain', 1),  # Champions League winner\n",
    "    Participant('Eintracht Frankfurt', 'Germany', 1),  # Europa League winner\n",
    "    Participant('Manchester City', 'England', 1),\n",
    "    Participant('Milan', 'Italy', 1),\n",
    "    Participant('Bayern Munich', 'Germany', 1),\n",
    "    Participant('Paris Saint-Germain', 'France', 1),\n",
    "    Participant('Porto', 'Portugal', 1),\n",
    "    Participant('Ajax', 'Netherlands', 1),\n",
    "\n",
    "    Participant('Liverpool', 'England', 2),\n",
    "    Participant('Chelsea', 'England', 2),\n",
    "    Participant('Barcelona', 'Spain', 2),\n",
    "    Participant('Juventus', 'Italy', 2),\n",
    "    Participant('Atlético Madrid', 'Spain', 2),\n",
    "    Participant('Sevilla', 'Spain', 2),\n",
    "    Participant('RB Leipzig', 'Germany', 2),\n",
    "    Participant('Tottenham Hotspur', 'England', 2),\n",
    "\n",
    "    Participant('Borussia Dortmund', 'Germany', 3),\n",
    "    Participant('Red Bull Salzburg', 'Austria', 3),\n",
    "    Participant('Shakhtar Donetsk', 'Ukraine', 3),\n",
    "    Participant('Inter Milan', 'Italy', 3),\n",
    "    Participant('Napoli', 'Italy', 3),\n",
    "    Participant('Benfica', 'Portugal', 3),\n",
    "    Participant('Sporting CP', 'Portugal', 3),\n",
    "    Participant('Bayer Leverkusen', 'Germany', 3),\n",
    "\n",
    "    Participant('Rangers', 'Scotland', 4),\n",
    "    Participant('Dinamo Zagreb', 'Croatia', 4),\n",
    "    Participant('Marseille', 'France', 4),\n",
    "    Participant('Copenhagen', 'Denmark', 4),\n",
    "    Participant('Club Brugge', 'Belgium', 4),\n",
    "    Participant('Celtic', 'Scotland', 4),\n",
    "    Participant('Viktoria Plzeň', 'Czech Republic', 4),\n",
    "    Participant('Maccabi Haifa', 'Israel', 4),\n",
    "]"
   ]
  },
  {
   "cell_type": "code",
   "execution_count": null,
   "id": "ff22e4e0",
   "metadata": {
    "ExecuteTime": {
     "end_time": "2022-08-25T12:43:10.529197Z",
     "start_time": "2022-08-25T12:43:10.521672Z"
    },
    "id": "ff22e4e0"
   },
   "outputs": [],
   "source": [
    "club_pairings = [\n",
    "    \n",
    "    # Spain\n",
    "    ('Real Madrid', 'Barcelona'),\n",
    "    ('Atlético Madrid', 'Sevilla'),\n",
    "\n",
    "    # Germany\n",
    "    ('Bayern Munich', 'Borussia Dortmund'),\n",
    "    ('Eintracht Frankfurt', 'RB Leipzig'),\n",
    "\n",
    "    # England\n",
    "    ('Manchester City', 'Liverpool'),\n",
    "    ('Chelsea', 'Tottenham Hotspur'),\n",
    "    \n",
    "    # Italy\n",
    "    ('Milan', 'Napoli'),\n",
    "    ('Juventus', 'Inter Milan'),\n",
    "\n",
    "    # France\n",
    "    ('Paris Saint-Germain', 'Marseille'),\n",
    "    \n",
    "    # Portugal\n",
    "    ('Porto', 'Benfica'),\n",
    "    \n",
    "    # Scotland\n",
    "    ('Rangers', 'Celtic'),\n",
    "]"
   ]
  },
  {
   "cell_type": "code",
   "execution_count": null,
   "id": "39a28af6",
   "metadata": {
    "ExecuteTime": {
     "end_time": "2022-08-25T12:43:10.537483Z",
     "start_time": "2022-08-25T12:43:10.532766Z"
    },
    "id": "39a28af6"
   },
   "outputs": [],
   "source": [
    "country_ban_pairings = [\n",
    "    ('Ukraine', 'Belarus'),\n",
    "    ('Ukraine', 'Russia'),\n",
    "]"
   ]
  },
  {
   "cell_type": "code",
   "execution_count": null,
   "id": "0e4ecfcd",
   "metadata": {
    "ExecuteTime": {
     "end_time": "2022-08-25T12:43:10.545991Z",
     "start_time": "2022-08-25T12:43:10.539317Z"
    },
    "id": "0e4ecfcd"
   },
   "outputs": [],
   "source": [
    "group_half_assignment = {\n",
    "    'A': 1,\n",
    "    'B': 1,\n",
    "    'C': 1,\n",
    "    'D': 1,\n",
    "    'E': 2,\n",
    "    'F': 2,\n",
    "    'G': 2,\n",
    "    'H': 2,\n",
    "}"
   ]
  },
  {
   "cell_type": "markdown",
   "id": "D6qet5PL9oqF",
   "metadata": {
    "id": "D6qet5PL9oqF"
   },
   "source": [
    "# Build auxiliary data structures"
   ]
  },
  {
   "cell_type": "code",
   "execution_count": null,
   "id": "1b8df910",
   "metadata": {
    "ExecuteTime": {
     "end_time": "2022-08-25T12:43:10.553975Z",
     "start_time": "2022-08-25T12:43:10.548160Z"
    },
    "id": "1b8df910"
   },
   "outputs": [],
   "source": [
    "pot_clubs_mapping = defaultdict(list)  # dict[pot, list[club]]\n",
    "club_pot_mapping = {}  # dict[club, pot]\n",
    "\n",
    "country_clubs_mapping = defaultdict(list)  # dict[country, list[club]]\n",
    "club_country_mapping = {}  # dict[club, country]\n",
    "\n",
    "for participant in participants:\n",
    "    pot_clubs_mapping[participant.draw_pot].append(participant.club_name)\n",
    "    club_pot_mapping[participant.club_name] = participant.draw_pot\n",
    "    \n",
    "    country_clubs_mapping[participant.country_name].append(participant.club_name)\n",
    "    club_country_mapping[participant.club_name] = participant.country_name"
   ]
  },
  {
   "cell_type": "code",
   "execution_count": null,
   "id": "3TtVUpDA9IUL",
   "metadata": {
    "ExecuteTime": {
     "end_time": "2022-08-25T12:43:10.573853Z",
     "start_time": "2022-08-25T12:43:10.556037Z"
    },
    "id": "3TtVUpDA9IUL"
   },
   "outputs": [],
   "source": [
    "clubs = list(club_country_mapping.keys())\n",
    "num_clubs = len(clubs)"
   ]
  },
  {
   "cell_type": "code",
   "execution_count": null,
   "id": "400aa6c9",
   "metadata": {
    "ExecuteTime": {
     "end_time": "2022-08-25T12:43:10.584079Z",
     "start_time": "2022-08-25T12:43:10.576727Z"
    },
    "id": "400aa6c9"
   },
   "outputs": [],
   "source": [
    "country_ban_clubs = []\n",
    "for country1, country2 in country_ban_pairings:\n",
    "    country1_clubs = country_clubs_mapping.get(country1, [])\n",
    "    country2_clubs = country_clubs_mapping.get(country2, [])\n",
    "    for club1, club2 in product(country1_clubs, country2_clubs):\n",
    "        country_ban_clubs.append((club1, club2))"
   ]
  },
  {
   "cell_type": "code",
   "execution_count": null,
   "id": "d059064a",
   "metadata": {
    "ExecuteTime": {
     "end_time": "2022-08-25T12:43:10.591959Z",
     "start_time": "2022-08-25T12:43:10.586889Z"
    },
    "id": "d059064a"
   },
   "outputs": [],
   "source": [
    "groups = list(group_half_assignment.keys())"
   ]
  },
  {
   "cell_type": "code",
   "execution_count": null,
   "id": "6c14ec77",
   "metadata": {
    "ExecuteTime": {
     "end_time": "2022-08-25T12:43:10.601629Z",
     "start_time": "2022-08-25T12:43:10.594987Z"
    }
   },
   "outputs": [],
   "source": [
    "pots = list(pot_clubs_mapping.keys())"
   ]
  },
  {
   "cell_type": "markdown",
   "id": "-ocJIC78Xf1_",
   "metadata": {
    "id": "-ocJIC78Xf1_"
   },
   "source": [
    "# Simulate one draw\n",
    "\n",
    "Run the draw procedure once to obtain a possible allocation of clubs to groups."
   ]
  },
  {
   "cell_type": "code",
   "execution_count": null,
   "id": "VNkDrMu_BrHK",
   "metadata": {
    "ExecuteTime": {
     "end_time": "2022-08-25T12:43:10.611638Z",
     "start_time": "2022-08-25T12:43:10.605171Z"
    },
    "id": "VNkDrMu_BrHK"
   },
   "outputs": [],
   "source": [
    "def different_day(group1, group2):\n",
    "    day1 = group_half_assignment.get(group1)\n",
    "    day2 = group_half_assignment.get(group2)\n",
    "    \n",
    "    return day1 != day2"
   ]
  },
  {
   "cell_type": "code",
   "execution_count": null,
   "id": "3d37dd61",
   "metadata": {
    "ExecuteTime": {
     "end_time": "2022-08-25T12:43:10.623003Z",
     "start_time": "2022-08-25T12:43:10.614466Z"
    },
    "id": "3d37dd61"
   },
   "outputs": [],
   "source": [
    "def produce_draw(assignment=None):\n",
    "    \"\"\"Produce a possible draw, optionally given a partial assignment of clubs to groups.\n",
    "    \n",
    "    The problem consists of 32 variables, each corresponding to one of the 32 clubs, that\n",
    "    can take 8 possible values, each corresponding to one of the 8 possible groups.\n",
    " \n",
    "    The task is to find an assignment of the 8 groups to the 32 clubs such that all constraints are satisfied. \n",
    "\n",
    "    Note: The problem can be defined in many different ways, each having advantages and disadvantages with\n",
    "    respect to the ability to enforce the constraints and to break the inherent symmetries.\n",
    "    \n",
    "    \"\"\"\n",
    "\n",
    "    if not assignment:\n",
    "        assignment = {}\n",
    "\n",
    "    problem = Problem()\n",
    "\n",
    "    # Set possible groups for each club. If available, use the given assignment. Otherwise, use all groups.\n",
    "    for club in clubs:\n",
    "        if club in assignment:\n",
    "            problem.addVariable(club, assignment.get(club))\n",
    "        else:\n",
    "            problem.addVariable(club, groups)\n",
    "\n",
    "    # Clubs in the same pot need to be drawn into different groups.\n",
    "    for _, pot_clubs in pot_clubs_mapping.items():\n",
    "        problem.addConstraint(AllDifferentConstraint(), pot_clubs)\n",
    "\n",
    "    # Clubs from the same association need to be drawn into different groups.\n",
    "    for country, country_clubs in country_clubs_mapping.items():\n",
    "        if len(country_clubs) > 1:\n",
    "            problem.addConstraint(AllDifferentConstraint(), country_clubs)\n",
    "\n",
    "    # Clubs from associations that cannot face each other need to be drawn into different groups.\n",
    "    for country_ban_club_pair in country_ban_clubs:\n",
    "        problem.addConstraint(AllDifferentConstraint(), country_ban_club_pair)\n",
    "\n",
    "    # Clubs that are paired based on TV audiences need to play on different days.\n",
    "    # Groups A, B, C and D play on the same day. Groups E, F, G and H play on the same day.\n",
    "    for club1, club2 in club_pairings:\n",
    "        problem.addConstraint(FunctionConstraint(different_day), (club1, club2))\n",
    "\n",
    "    return problem.getSolution()"
   ]
  },
  {
   "cell_type": "code",
   "execution_count": null,
   "id": "c12f8234",
   "metadata": {
    "ExecuteTime": {
     "end_time": "2022-08-25T12:43:10.634659Z",
     "start_time": "2022-08-25T12:43:10.625332Z"
    },
    "id": "c12f8234"
   },
   "outputs": [],
   "source": [
    "# Store the hashes of partial assignments that can result in a valid draw\n",
    "# to avoid solving the same constraint satisfaction problem multiple times.\n",
    "valid_assignment_hashes = set()"
   ]
  },
  {
   "cell_type": "code",
   "execution_count": null,
   "id": "cd33c577",
   "metadata": {
    "ExecuteTime": {
     "end_time": "2022-08-25T12:43:10.645216Z",
     "start_time": "2022-08-25T12:43:10.637504Z"
    },
    "id": "cd33c577"
   },
   "outputs": [],
   "source": [
    "def run_simulation(partial_draw=None):\n",
    "    \"\"\"Simulate the draw procedure to produce a draw that satisfies the constraints.\"\"\"\n",
    "    \n",
    "    draw = {}\n",
    "    if partial_draw:\n",
    "        draw.update(partial_draw)\n",
    "    \n",
    "    for pot, pot_clubs in pot_clubs_mapping.items():\n",
    "        pot_groups = groups.copy()\n",
    "\n",
    "        # The pot_clubs list could be randomly shuffled to mimic the actual draw procedure.\n",
    "        # However, a random shuffle should not affect the resulting probabilities.\n",
    "        for pot_club in pot_clubs:\n",
    "            if pot_club in draw:\n",
    "                continue\n",
    "            possible_groups = []\n",
    "\n",
    "            for group in pot_groups:\n",
    "                assignment = draw.copy()\n",
    "                assignment[pot_club] = group\n",
    "\n",
    "                assignment_hash = hash(frozenset(assignment.items()))\n",
    "                if assignment_hash in valid_assignment_hashes:\n",
    "                    possible_groups.append(group)\n",
    "                else:\n",
    "                    possible_draw = produce_draw(assignment)\n",
    "                    if possible_draw:\n",
    "                        possible_groups.append(group)\n",
    "                        valid_assignment_hashes.add(assignment_hash)\n",
    "\n",
    "            selected_group = random.choice(possible_groups)\n",
    "            draw[pot_club] = selected_group\n",
    "            pot_groups.remove(selected_group)\n",
    "\n",
    "    return draw"
   ]
  },
  {
   "cell_type": "code",
   "execution_count": null,
   "id": "TmkzTGx92Vxr",
   "metadata": {
    "ExecuteTime": {
     "end_time": "2022-08-25T12:43:10.792649Z",
     "start_time": "2022-08-25T12:43:10.647787Z"
    },
    "id": "TmkzTGx92Vxr"
   },
   "outputs": [],
   "source": [
    "draw = run_simulation()"
   ]
  },
  {
   "cell_type": "code",
   "execution_count": null,
   "id": "37142d0c",
   "metadata": {
    "ExecuteTime": {
     "end_time": "2022-08-25T12:43:10.802359Z",
     "start_time": "2022-08-25T12:43:10.797480Z"
    }
   },
   "outputs": [],
   "source": [
    "# Uncomment the following line to display the draw\n",
    "# draw"
   ]
  },
  {
   "cell_type": "markdown",
   "id": "Kj2mH6ToFlOA",
   "metadata": {
    "id": "Kj2mH6ToFlOA"
   },
   "source": [
    "# Display draw result"
   ]
  },
  {
   "cell_type": "code",
   "execution_count": null,
   "id": "32793638",
   "metadata": {
    "ExecuteTime": {
     "end_time": "2022-08-25T12:43:10.813528Z",
     "start_time": "2022-08-25T12:43:10.806123Z"
    }
   },
   "outputs": [],
   "source": [
    "def print_draw(draw):\n",
    "    table = defaultdict(dict)\n",
    "    for club, group in draw.items():\n",
    "        pot = club_pot_mapping.get(club)\n",
    "        country = club_country_mapping.get(club)\n",
    "        table[group][pot] = (club, country)\n",
    "        \n",
    "    for group in groups:\n",
    "        print('-----------------------------------')\n",
    "        print(f'-- Group {group}')\n",
    "        print('-----------------------------------')\n",
    "        for pot in pots:\n",
    "            club, country = table.get(group, {}).get(pot, ('None', 'None'))\n",
    "            print(f'{pot}. {club} ({country})')\n",
    "        print()"
   ]
  },
  {
   "cell_type": "code",
   "execution_count": null,
   "id": "oIoBYigT2baT",
   "metadata": {
    "ExecuteTime": {
     "end_time": "2022-08-25T12:43:10.835612Z",
     "start_time": "2022-08-25T12:43:10.816883Z"
    },
    "colab": {
     "base_uri": "https://localhost:8080/"
    },
    "id": "oIoBYigT2baT",
    "outputId": "7a173735-f254-4880-cb95-8e3a884f8a3a"
   },
   "outputs": [],
   "source": [
    "print_draw(draw)"
   ]
  },
  {
   "cell_type": "markdown",
   "id": "c6fTNWDb4aIi",
   "metadata": {
    "id": "c6fTNWDb4aIi"
   },
   "source": [
    "# Simulate many draws\n",
    "\n",
    "Run the draw procedure many times to obtain the probability for each pair of clubs to end up in the same group."
   ]
  },
  {
   "cell_type": "code",
   "execution_count": null,
   "id": "paWDCm-GEwJu",
   "metadata": {
    "ExecuteTime": {
     "end_time": "2022-08-25T12:43:10.841468Z",
     "start_time": "2022-08-25T12:43:10.838264Z"
    },
    "id": "paWDCm-GEwJu"
   },
   "outputs": [],
   "source": [
    "def initialize_grid():\n",
    "    grid = np.zeros((num_clubs, num_clubs))\n",
    "    \n",
    "    return grid"
   ]
  },
  {
   "cell_type": "code",
   "execution_count": null,
   "id": "b7eabfeb",
   "metadata": {
    "ExecuteTime": {
     "end_time": "2022-08-25T12:43:10.849333Z",
     "start_time": "2022-08-25T12:43:10.844455Z"
    },
    "id": "b7eabfeb"
   },
   "outputs": [],
   "source": [
    "def update_grid(grid, draw):\n",
    "    for idx1, club1 in enumerate(clubs):\n",
    "        group1 = draw[club1]\n",
    "        for idx2, club2 in enumerate(clubs):\n",
    "            group2 = draw[club2]\n",
    "            if group1 == group2:\n",
    "                grid[idx1][idx2] += 1"
   ]
  },
  {
   "cell_type": "code",
   "execution_count": null,
   "id": "EaWmxBPQ9hPY",
   "metadata": {
    "ExecuteTime": {
     "end_time": "2022-08-25T12:43:10.856202Z",
     "start_time": "2022-08-25T12:43:10.851149Z"
    },
    "id": "EaWmxBPQ9hPY"
   },
   "outputs": [],
   "source": [
    "def run_simulations(num_simulations, partial_draw=None):\n",
    "    grid = initialize_grid()\n",
    "    for _ in tqdm(range(num_simulations)):\n",
    "        draw = run_simulation(partial_draw)\n",
    "        update_grid(grid, draw)\n",
    "    grid /= num_simulations\n",
    "\n",
    "    table = pd.DataFrame(\n",
    "        data=grid,\n",
    "        index=clubs,\n",
    "        columns=clubs,\n",
    "    )\n",
    "\n",
    "    return table"
   ]
  },
  {
   "cell_type": "code",
   "execution_count": null,
   "id": "Qf_ZvTb54aVj",
   "metadata": {
    "ExecuteTime": {
     "end_time": "2022-08-25T12:43:10.864788Z",
     "start_time": "2022-08-25T12:43:10.859736Z"
    },
    "id": "Qf_ZvTb54aVj"
   },
   "outputs": [],
   "source": [
    "num_simulations = 1_000"
   ]
  },
  {
   "cell_type": "code",
   "execution_count": null,
   "id": "LztU7klG8Rn-",
   "metadata": {
    "ExecuteTime": {
     "end_time": "2022-08-25T12:44:33.957495Z",
     "start_time": "2022-08-25T12:43:10.867449Z"
    },
    "colab": {
     "base_uri": "https://localhost:8080/",
     "height": 49,
     "referenced_widgets": [
      "8da8a4aaf19b4d04984bdffb85a76a8f",
      "5590e7b94f9e495585ec011e47aab9e2",
      "870fe024dea54429a5302f669c2809e6",
      "cb5203cec2db450fae78220eea1f6d43",
      "110768c432ee4ba2bb3d7f00c766d1d3",
      "f5fdd03c257a4a1eae8ea99c49fc3eb8",
      "99b25700edc543688f16836ad19b7163",
      "c9f5b183d836470aa4541647f8b80a34",
      "b3cded899ae14a8dac0d44d55a31fd10",
      "bebb89ff66284a6397b790e2f3c98c3a",
      "970fe2145b3d4d649afb22fd5ab46243"
     ]
    },
    "id": "LztU7klG8Rn-",
    "outputId": "c9a0a4ee-1b73-419e-999f-c5eb03411271"
   },
   "outputs": [],
   "source": [
    "table = run_simulations(num_simulations)"
   ]
  },
  {
   "cell_type": "code",
   "execution_count": null,
   "id": "Bjwc-an32yP0",
   "metadata": {
    "ExecuteTime": {
     "end_time": "2022-08-25T12:44:33.963785Z",
     "start_time": "2022-08-25T12:44:33.960196Z"
    },
    "colab": {
     "base_uri": "https://localhost:8080/",
     "height": 1000
    },
    "id": "Bjwc-an32yP0",
    "outputId": "83834eaf-0d82-4930-e04e-4772553ea568"
   },
   "outputs": [],
   "source": [
    "# Uncomment the following line to display the probability table\n",
    "# table"
   ]
  },
  {
   "cell_type": "markdown",
   "id": "d78cba2c",
   "metadata": {},
   "source": [
    "# Simulate many draws given current draw\n",
    "\n",
    "Run the draw procedure many times to obtain the probability for each pair of clubs to end up in the same group, given a partial allocation of clubs to groups, for instance, during the actual draw."
   ]
  },
  {
   "cell_type": "code",
   "execution_count": null,
   "id": "acbb291d",
   "metadata": {
    "ExecuteTime": {
     "end_time": "2022-08-25T12:44:33.973209Z",
     "start_time": "2022-08-25T12:44:33.966179Z"
    }
   },
   "outputs": [],
   "source": [
    "def select_assigned_clubs(partial_draw):\n",
    "    assigned = {\n",
    "        club: group\n",
    "        for club, group in partial_draw.items()\n",
    "        if group in groups\n",
    "    }\n",
    "\n",
    "    return assigned"
   ]
  },
  {
   "cell_type": "code",
   "execution_count": null,
   "id": "a2d8c7fa",
   "metadata": {
    "ExecuteTime": {
     "end_time": "2022-08-25T12:44:33.981070Z",
     "start_time": "2022-08-25T12:44:33.975298Z"
    }
   },
   "outputs": [],
   "source": [
    "# Assign a group letter (A through H) to a club to allocate the club to the specified group.\n",
    "current_draw = {\n",
    "    'Real Madrid': 'A',\n",
    "    'Eintracht Frankfurt': 'E',\n",
    "    'Manchester City': 'B',\n",
    "    'Milan': 'F',\n",
    "    'Bayern Munich': 'C',\n",
    "    'Paris Saint-Germain': 'G',\n",
    "    'Porto': 'D',\n",
    "    'Ajax': 'H',\n",
    "    'Liverpool': 'H',\n",
    "    'Chelsea': 'D',\n",
    "    'Barcelona': 'G',\n",
    "    'Juventus': 'C',\n",
    "    'Atlético Madrid': 'F',\n",
    "    'Sevilla': 'B',\n",
    "    'RB Leipzig': 'A',\n",
    "    'Tottenham Hotspur': 'E',\n",
    "    'Borussia Dortmund': '',\n",
    "    'Red Bull Salzburg': '',\n",
    "    'Shakhtar Donetsk': '',\n",
    "    'Inter Milan': '',\n",
    "    'Napoli': '',\n",
    "    'Benfica': '',\n",
    "    'Sporting CP': '',\n",
    "    'Bayer Leverkusen': '',\n",
    "    'Rangers': '',\n",
    "    'Dinamo Zagreb': '',\n",
    "    'Marseille': '',\n",
    "    'Copenhagen': '',\n",
    "    'Club Brugge': '',\n",
    "    'Celtic': '',\n",
    "    'Viktoria Plzeň': '',\n",
    "    'Maccabi Haifa': '', \n",
    "}"
   ]
  },
  {
   "cell_type": "code",
   "execution_count": null,
   "id": "0494e43a",
   "metadata": {
    "ExecuteTime": {
     "end_time": "2022-08-25T12:44:33.990103Z",
     "start_time": "2022-08-25T12:44:33.982496Z"
    }
   },
   "outputs": [],
   "source": [
    "num_simulations = 1_000"
   ]
  },
  {
   "cell_type": "code",
   "execution_count": null,
   "id": "b43217d3",
   "metadata": {
    "ExecuteTime": {
     "end_time": "2022-08-25T12:44:33.996385Z",
     "start_time": "2022-08-25T12:44:33.991495Z"
    }
   },
   "outputs": [],
   "source": [
    "partial_draw = select_assigned_clubs(current_draw)"
   ]
  },
  {
   "cell_type": "code",
   "execution_count": null,
   "id": "e4355175",
   "metadata": {
    "ExecuteTime": {
     "end_time": "2022-08-25T12:45:00.848334Z",
     "start_time": "2022-08-25T12:44:33.997902Z"
    }
   },
   "outputs": [],
   "source": [
    "table = run_simulations(\n",
    "    num_simulations,\n",
    "    partial_draw,\n",
    ")"
   ]
  },
  {
   "cell_type": "code",
   "execution_count": null,
   "id": "b7303860",
   "metadata": {
    "ExecuteTime": {
     "end_time": "2022-08-25T12:45:00.853658Z",
     "start_time": "2022-08-25T12:45:00.850364Z"
    }
   },
   "outputs": [],
   "source": [
    "# Uncomment the following line to display the probability table\n",
    "# table"
   ]
  },
  {
   "cell_type": "markdown",
   "id": "IWxOldT4Fyo1",
   "metadata": {
    "id": "IWxOldT4Fyo1"
   },
   "source": [
    "# Analyze draw results"
   ]
  },
  {
   "cell_type": "code",
   "execution_count": null,
   "id": "MV7eIzTd566l",
   "metadata": {
    "ExecuteTime": {
     "end_time": "2022-08-25T12:45:00.863191Z",
     "start_time": "2022-08-25T12:45:00.856149Z"
    },
    "id": "MV7eIzTd566l"
   },
   "outputs": [],
   "source": [
    "def filter_table(table, club_names, pots):\n",
    "    if isinstance(pots, int):\n",
    "        pots = [pots]\n",
    "\n",
    "    clubs = []\n",
    "    for pot in pots:\n",
    "        pot_clubs = pot_clubs_mapping.get(pot)\n",
    "        clubs.extend(pot_clubs)\n",
    "\n",
    "    filtered_table = table.loc[clubs]\n",
    "    \n",
    "    if len(club_names) == 1:\n",
    "        filtered_table.sort_values(\n",
    "            by=club_names,\n",
    "            ascending=False,\n",
    "            inplace=True,\n",
    "        )\n",
    "    \n",
    "    selected_table = filtered_table[club_names]\n",
    "\n",
    "    return selected_table"
   ]
  },
  {
   "cell_type": "code",
   "execution_count": null,
   "id": "kIsvDIrj5Hj5",
   "metadata": {
    "ExecuteTime": {
     "end_time": "2022-08-25T12:45:00.872710Z",
     "start_time": "2022-08-25T12:45:00.865410Z"
    },
    "id": "kIsvDIrj5Hj5"
   },
   "outputs": [],
   "source": [
    "club_names = [\n",
    "    'Real Madrid',\n",
    "    'Eintracht Frankfurt',\n",
    "    'Manchester City',\n",
    "    'Milan',\n",
    "    'Bayern Munich',\n",
    "    'Paris Saint-Germain',\n",
    "    'Porto',\n",
    "    'Ajax',\n",
    "]"
   ]
  },
  {
   "cell_type": "code",
   "execution_count": null,
   "id": "vDn5rP1S3xgk",
   "metadata": {
    "ExecuteTime": {
     "end_time": "2022-08-25T12:45:00.897119Z",
     "start_time": "2022-08-25T12:45:00.874710Z"
    },
    "colab": {
     "base_uri": "https://localhost:8080/",
     "height": 300
    },
    "id": "vDn5rP1S3xgk",
    "outputId": "25102635-f29d-48e1-aae2-d56e0e210d0e"
   },
   "outputs": [],
   "source": [
    "filter_table(\n",
    "    table,\n",
    "    club_names,\n",
    "    pots=1,\n",
    ")"
   ]
  },
  {
   "cell_type": "code",
   "execution_count": null,
   "id": "27996444",
   "metadata": {
    "ExecuteTime": {
     "end_time": "2022-08-25T12:45:00.918013Z",
     "start_time": "2022-08-25T12:45:00.899328Z"
    },
    "colab": {
     "base_uri": "https://localhost:8080/",
     "height": 300
    },
    "id": "27996444",
    "outputId": "ec98fff0-d532-4e83-d59d-b2f7c11bdaaf"
   },
   "outputs": [],
   "source": [
    "filter_table(\n",
    "    table,\n",
    "    club_names,\n",
    "    pots=2,\n",
    ")"
   ]
  },
  {
   "cell_type": "code",
   "execution_count": null,
   "id": "lFCL7sf63F2z",
   "metadata": {
    "ExecuteTime": {
     "end_time": "2022-08-25T12:45:00.934475Z",
     "start_time": "2022-08-25T12:45:00.920089Z"
    },
    "colab": {
     "base_uri": "https://localhost:8080/",
     "height": 300
    },
    "id": "lFCL7sf63F2z",
    "outputId": "55a5c761-a007-4e74-fbf7-d09f4c7d53e9"
   },
   "outputs": [],
   "source": [
    "filter_table(\n",
    "    table,\n",
    "    club_names,\n",
    "    pots=3,\n",
    ")"
   ]
  },
  {
   "cell_type": "code",
   "execution_count": null,
   "id": "aZPChIIm3LRD",
   "metadata": {
    "ExecuteTime": {
     "end_time": "2022-08-25T12:45:00.952709Z",
     "start_time": "2022-08-25T12:45:00.937365Z"
    },
    "colab": {
     "base_uri": "https://localhost:8080/",
     "height": 300
    },
    "id": "aZPChIIm3LRD",
    "outputId": "30798b62-4643-46f3-b0a8-f3c5a5abe6c1"
   },
   "outputs": [],
   "source": [
    "filter_table(\n",
    "    table,\n",
    "    club_names,\n",
    "    pots=4,\n",
    ")"
   ]
  },
  {
   "cell_type": "code",
   "execution_count": null,
   "id": "3efbf78f",
   "metadata": {
    "ExecuteTime": {
     "end_time": "2022-08-25T12:45:00.979770Z",
     "start_time": "2022-08-25T12:45:00.954778Z"
    },
    "scrolled": true
   },
   "outputs": [],
   "source": [
    "filter_table(\n",
    "    table,\n",
    "    club_names,\n",
    "    pots=[3, 4],\n",
    ")"
   ]
  }
 ],
 "metadata": {
  "colab": {
   "collapsed_sections": [],
   "name": "champions-league-group-stage-draw-simulation.ipynb",
   "provenance": [],
   "toc_visible": true
  },
  "gpuClass": "standard",
  "kernelspec": {
   "display_name": "Python 3",
   "language": "python",
   "name": "python3"
  },
  "language_info": {
   "codemirror_mode": {
    "name": "ipython",
    "version": 3
   },
   "file_extension": ".py",
   "mimetype": "text/x-python",
   "name": "python",
   "nbconvert_exporter": "python",
   "pygments_lexer": "ipython3",
   "version": "3.9.9"
  },
  "toc": {
   "base_numbering": 1,
   "nav_menu": {},
   "number_sections": true,
   "sideBar": true,
   "skip_h1_title": false,
   "title_cell": "Table of Contents",
   "title_sidebar": "Contents",
   "toc_cell": false,
   "toc_position": {
    "height": "calc(100% - 180px)",
    "left": "10px",
    "top": "150px",
    "width": "384px"
   },
   "toc_section_display": true,
   "toc_window_display": true
  },
  "widgets": {
   "application/vnd.jupyter.widget-state+json": {
    "110768c432ee4ba2bb3d7f00c766d1d3": {
     "model_module": "@jupyter-widgets/base",
     "model_module_version": "1.2.0",
     "model_name": "LayoutModel",
     "state": {
      "_model_module": "@jupyter-widgets/base",
      "_model_module_version": "1.2.0",
      "_model_name": "LayoutModel",
      "_view_count": null,
      "_view_module": "@jupyter-widgets/base",
      "_view_module_version": "1.2.0",
      "_view_name": "LayoutView",
      "align_content": null,
      "align_items": null,
      "align_self": null,
      "border": null,
      "bottom": null,
      "display": null,
      "flex": null,
      "flex_flow": null,
      "grid_area": null,
      "grid_auto_columns": null,
      "grid_auto_flow": null,
      "grid_auto_rows": null,
      "grid_column": null,
      "grid_gap": null,
      "grid_row": null,
      "grid_template_areas": null,
      "grid_template_columns": null,
      "grid_template_rows": null,
      "height": null,
      "justify_content": null,
      "justify_items": null,
      "left": null,
      "margin": null,
      "max_height": null,
      "max_width": null,
      "min_height": null,
      "min_width": null,
      "object_fit": null,
      "object_position": null,
      "order": null,
      "overflow": null,
      "overflow_x": null,
      "overflow_y": null,
      "padding": null,
      "right": null,
      "top": null,
      "visibility": null,
      "width": null
     }
    },
    "5590e7b94f9e495585ec011e47aab9e2": {
     "model_module": "@jupyter-widgets/controls",
     "model_module_version": "1.5.0",
     "model_name": "HTMLModel",
     "state": {
      "_dom_classes": [],
      "_model_module": "@jupyter-widgets/controls",
      "_model_module_version": "1.5.0",
      "_model_name": "HTMLModel",
      "_view_count": null,
      "_view_module": "@jupyter-widgets/controls",
      "_view_module_version": "1.5.0",
      "_view_name": "HTMLView",
      "description": "",
      "description_tooltip": null,
      "layout": "IPY_MODEL_f5fdd03c257a4a1eae8ea99c49fc3eb8",
      "placeholder": "​",
      "style": "IPY_MODEL_99b25700edc543688f16836ad19b7163",
      "value": "100%"
     }
    },
    "870fe024dea54429a5302f669c2809e6": {
     "model_module": "@jupyter-widgets/controls",
     "model_module_version": "1.5.0",
     "model_name": "FloatProgressModel",
     "state": {
      "_dom_classes": [],
      "_model_module": "@jupyter-widgets/controls",
      "_model_module_version": "1.5.0",
      "_model_name": "FloatProgressModel",
      "_view_count": null,
      "_view_module": "@jupyter-widgets/controls",
      "_view_module_version": "1.5.0",
      "_view_name": "ProgressView",
      "bar_style": "success",
      "description": "",
      "description_tooltip": null,
      "layout": "IPY_MODEL_c9f5b183d836470aa4541647f8b80a34",
      "max": 100,
      "min": 0,
      "orientation": "horizontal",
      "style": "IPY_MODEL_b3cded899ae14a8dac0d44d55a31fd10",
      "value": 100
     }
    },
    "8da8a4aaf19b4d04984bdffb85a76a8f": {
     "model_module": "@jupyter-widgets/controls",
     "model_module_version": "1.5.0",
     "model_name": "HBoxModel",
     "state": {
      "_dom_classes": [],
      "_model_module": "@jupyter-widgets/controls",
      "_model_module_version": "1.5.0",
      "_model_name": "HBoxModel",
      "_view_count": null,
      "_view_module": "@jupyter-widgets/controls",
      "_view_module_version": "1.5.0",
      "_view_name": "HBoxView",
      "box_style": "",
      "children": [
       "IPY_MODEL_5590e7b94f9e495585ec011e47aab9e2",
       "IPY_MODEL_870fe024dea54429a5302f669c2809e6",
       "IPY_MODEL_cb5203cec2db450fae78220eea1f6d43"
      ],
      "layout": "IPY_MODEL_110768c432ee4ba2bb3d7f00c766d1d3"
     }
    },
    "970fe2145b3d4d649afb22fd5ab46243": {
     "model_module": "@jupyter-widgets/controls",
     "model_module_version": "1.5.0",
     "model_name": "DescriptionStyleModel",
     "state": {
      "_model_module": "@jupyter-widgets/controls",
      "_model_module_version": "1.5.0",
      "_model_name": "DescriptionStyleModel",
      "_view_count": null,
      "_view_module": "@jupyter-widgets/base",
      "_view_module_version": "1.2.0",
      "_view_name": "StyleView",
      "description_width": ""
     }
    },
    "99b25700edc543688f16836ad19b7163": {
     "model_module": "@jupyter-widgets/controls",
     "model_module_version": "1.5.0",
     "model_name": "DescriptionStyleModel",
     "state": {
      "_model_module": "@jupyter-widgets/controls",
      "_model_module_version": "1.5.0",
      "_model_name": "DescriptionStyleModel",
      "_view_count": null,
      "_view_module": "@jupyter-widgets/base",
      "_view_module_version": "1.2.0",
      "_view_name": "StyleView",
      "description_width": ""
     }
    },
    "b3cded899ae14a8dac0d44d55a31fd10": {
     "model_module": "@jupyter-widgets/controls",
     "model_module_version": "1.5.0",
     "model_name": "ProgressStyleModel",
     "state": {
      "_model_module": "@jupyter-widgets/controls",
      "_model_module_version": "1.5.0",
      "_model_name": "ProgressStyleModel",
      "_view_count": null,
      "_view_module": "@jupyter-widgets/base",
      "_view_module_version": "1.2.0",
      "_view_name": "StyleView",
      "bar_color": null,
      "description_width": ""
     }
    },
    "bebb89ff66284a6397b790e2f3c98c3a": {
     "model_module": "@jupyter-widgets/base",
     "model_module_version": "1.2.0",
     "model_name": "LayoutModel",
     "state": {
      "_model_module": "@jupyter-widgets/base",
      "_model_module_version": "1.2.0",
      "_model_name": "LayoutModel",
      "_view_count": null,
      "_view_module": "@jupyter-widgets/base",
      "_view_module_version": "1.2.0",
      "_view_name": "LayoutView",
      "align_content": null,
      "align_items": null,
      "align_self": null,
      "border": null,
      "bottom": null,
      "display": null,
      "flex": null,
      "flex_flow": null,
      "grid_area": null,
      "grid_auto_columns": null,
      "grid_auto_flow": null,
      "grid_auto_rows": null,
      "grid_column": null,
      "grid_gap": null,
      "grid_row": null,
      "grid_template_areas": null,
      "grid_template_columns": null,
      "grid_template_rows": null,
      "height": null,
      "justify_content": null,
      "justify_items": null,
      "left": null,
      "margin": null,
      "max_height": null,
      "max_width": null,
      "min_height": null,
      "min_width": null,
      "object_fit": null,
      "object_position": null,
      "order": null,
      "overflow": null,
      "overflow_x": null,
      "overflow_y": null,
      "padding": null,
      "right": null,
      "top": null,
      "visibility": null,
      "width": null
     }
    },
    "c9f5b183d836470aa4541647f8b80a34": {
     "model_module": "@jupyter-widgets/base",
     "model_module_version": "1.2.0",
     "model_name": "LayoutModel",
     "state": {
      "_model_module": "@jupyter-widgets/base",
      "_model_module_version": "1.2.0",
      "_model_name": "LayoutModel",
      "_view_count": null,
      "_view_module": "@jupyter-widgets/base",
      "_view_module_version": "1.2.0",
      "_view_name": "LayoutView",
      "align_content": null,
      "align_items": null,
      "align_self": null,
      "border": null,
      "bottom": null,
      "display": null,
      "flex": null,
      "flex_flow": null,
      "grid_area": null,
      "grid_auto_columns": null,
      "grid_auto_flow": null,
      "grid_auto_rows": null,
      "grid_column": null,
      "grid_gap": null,
      "grid_row": null,
      "grid_template_areas": null,
      "grid_template_columns": null,
      "grid_template_rows": null,
      "height": null,
      "justify_content": null,
      "justify_items": null,
      "left": null,
      "margin": null,
      "max_height": null,
      "max_width": null,
      "min_height": null,
      "min_width": null,
      "object_fit": null,
      "object_position": null,
      "order": null,
      "overflow": null,
      "overflow_x": null,
      "overflow_y": null,
      "padding": null,
      "right": null,
      "top": null,
      "visibility": null,
      "width": null
     }
    },
    "cb5203cec2db450fae78220eea1f6d43": {
     "model_module": "@jupyter-widgets/controls",
     "model_module_version": "1.5.0",
     "model_name": "HTMLModel",
     "state": {
      "_dom_classes": [],
      "_model_module": "@jupyter-widgets/controls",
      "_model_module_version": "1.5.0",
      "_model_name": "HTMLModel",
      "_view_count": null,
      "_view_module": "@jupyter-widgets/controls",
      "_view_module_version": "1.5.0",
      "_view_name": "HTMLView",
      "description": "",
      "description_tooltip": null,
      "layout": "IPY_MODEL_bebb89ff66284a6397b790e2f3c98c3a",
      "placeholder": "​",
      "style": "IPY_MODEL_970fe2145b3d4d649afb22fd5ab46243",
      "value": " 100/100 [00:14&lt;00:00,  9.77it/s]"
     }
    },
    "f5fdd03c257a4a1eae8ea99c49fc3eb8": {
     "model_module": "@jupyter-widgets/base",
     "model_module_version": "1.2.0",
     "model_name": "LayoutModel",
     "state": {
      "_model_module": "@jupyter-widgets/base",
      "_model_module_version": "1.2.0",
      "_model_name": "LayoutModel",
      "_view_count": null,
      "_view_module": "@jupyter-widgets/base",
      "_view_module_version": "1.2.0",
      "_view_name": "LayoutView",
      "align_content": null,
      "align_items": null,
      "align_self": null,
      "border": null,
      "bottom": null,
      "display": null,
      "flex": null,
      "flex_flow": null,
      "grid_area": null,
      "grid_auto_columns": null,
      "grid_auto_flow": null,
      "grid_auto_rows": null,
      "grid_column": null,
      "grid_gap": null,
      "grid_row": null,
      "grid_template_areas": null,
      "grid_template_columns": null,
      "grid_template_rows": null,
      "height": null,
      "justify_content": null,
      "justify_items": null,
      "left": null,
      "margin": null,
      "max_height": null,
      "max_width": null,
      "min_height": null,
      "min_width": null,
      "object_fit": null,
      "object_position": null,
      "order": null,
      "overflow": null,
      "overflow_x": null,
      "overflow_y": null,
      "padding": null,
      "right": null,
      "top": null,
      "visibility": null,
      "width": null
     }
    }
   }
  }
 },
 "nbformat": 4,
 "nbformat_minor": 5
}
